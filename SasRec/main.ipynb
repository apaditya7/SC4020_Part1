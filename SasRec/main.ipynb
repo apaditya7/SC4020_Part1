{
 "cells": [
  {
   "cell_type": "markdown",
   "metadata": {},
   "source": [
    "# Sequential Recommendation: SASRec & gSASRec\n",
    "\n",
    "This notebook implements and compares sequential recommendation methods:\n",
    "- **SASRec**\n",
    "- **gSASRec** "
   ]
  },
  {
   "cell_type": "markdown",
   "metadata": {},
   "source": [
    "## 1. Setup and Imports"
   ]
  },
  {
   "cell_type": "code",
   "execution_count": 1,
   "metadata": {},
   "outputs": [],
   "source": [
    "import torch\n",
    "import numpy as np\n",
    "import matplotlib.pyplot as plt\n",
    "import seaborn as sns\n",
    "import pandas as pd\n",
    "from tqdm import tqdm\n",
    "import os\n",
    "import json\n",
    "from collections import defaultdict\n",
    "\n",
    "from model import SASRec\n",
    "from data_utils import get_train_dataloader, get_val_dataloader, get_test_dataloader, get_num_items\n",
    "from metrics import evaluate\n",
    "from config import ExperimentConfig, get_sasrec_config, get_gsasrec_config\n",
    "from utils import build_model, get_device\n",
    "from ir_measures import nDCG, R\n",
    "\n",
    "sns.set_style('whitegrid')\n",
    "%matplotlib inline"
   ]
  },
  {
   "cell_type": "code",
   "execution_count": 2,
   "metadata": {},
   "outputs": [
    {
     "name": "stdout",
     "output_type": "stream",
     "text": [
      "Using device: mps\n"
     ]
    }
   ],
   "source": [
    "device = get_device()\n"
   ]
  },
  {
   "cell_type": "markdown",
   "metadata": {},
   "source": [
    "## 2. Dataset Overview"
   ]
  },
  {
   "cell_type": "code",
   "execution_count": 3,
   "metadata": {},
   "outputs": [
    {
     "name": "stdout",
     "output_type": "stream",
     "text": [
      "Dataset Statistics:\n",
      "  Users: 6,040\n",
      "  Items: 3,416\n",
      "  Interactions: 999,611\n",
      "  Sparsity: 0.9516\n"
     ]
    }
   ],
   "source": [
    "dataset_name = 'ml1m'\n",
    "\n",
    "with open(f'datasets/{dataset_name}/dataset_stats.json', 'r') as f:\n",
    "    stats = json.load(f)\n",
    "\n"
   ]
  },
  {
   "cell_type": "markdown",
   "metadata": {},
   "source": [
    "## 3. Training Functions"
   ]
  },
  {
   "cell_type": "code",
   "execution_count": null,
   "metadata": {},
   "outputs": [],
   "source": [
    "def train_epoch(model, train_loader, optimizer, config, device, num_items):\n",
    "    model.train()\n",
    "    total_loss = 0\n",
    "    batches = 0\n",
    "    \n",
    "    batch_iter = iter(train_loader)\n",
    "    batches_per_epoch = min(config.max_batches_per_epoch, len(train_loader))\n",
    "    \n",
    "    for _ in tqdm(range(batches_per_epoch), desc='Training'):\n",
    "        positives, negatives = [tensor.to(device) for tensor in next(batch_iter)]\n",
    "        model_input = positives[:, :-1]\n",
    "        last_hidden_state, attentions = model(model_input)\n",
    "        labels = positives[:, 1:]\n",
    "        negatives = negatives[:, 1:, :]\n",
    "        pos_neg_concat = torch.cat([labels.unsqueeze(-1), negatives], dim=-1)\n",
    "        output_embeddings = model.get_output_embeddings()\n",
    "        pos_neg_embeddings = output_embeddings(pos_neg_concat)\n",
    "        mask = (model_input != num_items + 1).float()\n",
    "        logits = torch.einsum('bse, bsne -> bsn', last_hidden_state, pos_neg_embeddings)\n",
    "        gt = torch.zeros_like(logits)\n",
    "        gt[:, :, 0] = 1\n",
    "\n",
    "        # Apply gBCE transformation if t > 0\n",
    "        if config.gbce_t > 0:\n",
    "            temp = 1.0 + config.gbce_t\n",
    "            logits = logits / temp\n",
    "        \n",
    "        loss_per_element = torch.nn.functional.binary_cross_entropy_with_logits(logits, gt, reduction='none').mean(-1)*mask\n",
    "        loss = loss_per_element.sum() / mask.sum()\n",
    "        \n",
    "        loss.backward()\n",
    "        optimizer.step()\n",
    "        optimizer.zero_grad()\n",
    "        \n",
    "        total_loss += loss.item()\n",
    "        batches += 1\n",
    "    \n",
    "    return total_loss / batches\n",
    "\n",
    "\n",
    "def train_model(config, max_epochs=None, verbose=True):\n",
    "    if max_epochs is None:\n",
    "        max_epochs = config.max_epochs\n",
    "    \n",
    "    num_items = get_num_items(config.dataset_name)\n",
    "    model = build_model(config).to(device)\n",
    "    \n",
    "    train_loader = get_train_dataloader(\n",
    "        config.dataset_name,\n",
    "        batch_size=config.train_batch_size,\n",
    "        max_length=config.sequence_length,\n",
    "        train_neg_per_positive=config.negs_per_pos\n",
    "    )\n",
    "    val_loader = get_val_dataloader(\n",
    "        config.dataset_name,\n",
    "        batch_size=config.eval_batch_size,\n",
    "        max_length=config.sequence_length\n",
    "    )\n",
    "    \n",
    "    optimizer = torch.optim.Adam(model.parameters())\n",
    "    \n",
    "    best_metric = float('-inf')\n",
    "    best_model_state = None\n",
    "    epochs_no_improve = 0\n",
    "    \n",
    "    history = {\n",
    "        'train_loss': [],\n",
    "        'val_ndcg': [],\n",
    "        'val_recall_1': [],\n",
    "        'val_recall_10': [],\n",
    "        'val_precision_10': []\n",
    "    }\n",
    "    \n",
    "    for epoch in range(max_epochs):\n",
    "        train_loss = train_epoch(model, train_loader, optimizer, config, device, num_items)\n",
    "        \n",
    "        val_results = evaluate(\n",
    "            model, val_loader, config.metrics,\n",
    "            config.recommendation_limit, config.filter_rated, device\n",
    "        )\n",
    "        \n",
    "        history['train_loss'].append(train_loss)\n",
    "        history['val_ndcg'].append(float(val_results[nDCG@10]))\n",
    "        history['val_recall_1'].append(float(val_results[R@1]))\n",
    "        history['val_recall_10'].append(float(val_results[R@10]))\n",
    "        history['val_precision_10'].append(float(val_results[P@10]))\n",
    "        \n",
    "        if verbose:\n",
    "            print(f\"Epoch {epoch+1}/{max_epochs} | Loss: {train_loss:.4f} | \"\n",
    "                  f\"NDCG@10: {val_results[nDCG@10]:.4f} | \"\n",
    "                  f\"R@1: {val_results[R@1]:.4f} | R@10: {val_results[R@10]:.4f} | \"\n",
    "                  f\"P@10: {val_results[P@10]:.4f}\")\n",
    "        \n",
    "        current_metric = float(val_results[config.val_metric])\n",
    "        if current_metric > best_metric:\n",
    "            best_metric = current_metric\n",
    "            best_model_state = model.state_dict().copy()\n",
    "            epochs_no_improve = 0\n",
    "        else:\n",
    "            epochs_no_improve += 1\n",
    "            \n",
    "        if epochs_no_improve >= config.early_stopping_patience:\n",
    "            if verbose:\n",
    "                print(f\"Early stopping at epoch {epoch+1}\")\n",
    "            break\n",
    "    \n",
    "    model.load_state_dict(best_model_state)\n",
    "    return model, history"
   ]
  },
  {
   "cell_type": "markdown",
   "metadata": {},
   "source": [
    "## 4. Experiment 1: SASRec vs gSASRec Comparison\n",
    "\n",
    "Compare vanilla SASRec with gSASRec to understand the impact of:\n",
    "- More negative samples (1 vs 256)\n",
    "- Calibrated loss function (BCE vs gBCE)"
   ]
  },
  {
   "cell_type": "code",
   "execution_count": 5,
   "metadata": {},
   "outputs": [
    {
     "name": "stdout",
     "output_type": "stream",
     "text": [
      "Training SASRec (vanilla)...\n"
     ]
    },
    {
     "name": "stderr",
     "output_type": "stream",
     "text": [
      "100%|██████████| 1/1 [00:05<00:00,  5.26s/it]\n"
     ]
    },
    {
     "name": "stdout",
     "output_type": "stream",
     "text": [
      "Epoch 1/50 | Loss: 3.5634 | NDCG@10: 0.0000 | R@1: 0.0000 | R@10: 0.0000\n"
     ]
    },
    {
     "name": "stderr",
     "output_type": "stream",
     "text": [
      "100%|██████████| 1/1 [00:05<00:00,  5.35s/it]\n"
     ]
    },
    {
     "name": "stdout",
     "output_type": "stream",
     "text": [
      "Epoch 2/50 | Loss: 1.8198 | NDCG@10: 0.0006 | R@1: 0.0000 | R@10: 0.0020\n"
     ]
    },
    {
     "name": "stderr",
     "output_type": "stream",
     "text": [
      "100%|██████████| 1/1 [00:05<00:00,  5.08s/it]\n"
     ]
    },
    {
     "name": "stdout",
     "output_type": "stream",
     "text": [
      "Epoch 3/50 | Loss: 1.0238 | NDCG@10: 0.0006 | R@1: 0.0000 | R@10: 0.0020\n"
     ]
    },
    {
     "name": "stderr",
     "output_type": "stream",
     "text": [
      "100%|██████████| 1/1 [00:04<00:00,  4.99s/it]\n"
     ]
    },
    {
     "name": "stdout",
     "output_type": "stream",
     "text": [
      "Epoch 4/50 | Loss: 0.7259 | NDCG@10: 0.0006 | R@1: 0.0000 | R@10: 0.0020\n"
     ]
    },
    {
     "name": "stderr",
     "output_type": "stream",
     "text": [
      "100%|██████████| 1/1 [00:04<00:00,  4.83s/it]\n"
     ]
    },
    {
     "name": "stdout",
     "output_type": "stream",
     "text": [
      "Epoch 5/50 | Loss: 0.6214 | NDCG@10: 0.0006 | R@1: 0.0000 | R@10: 0.0020\n"
     ]
    },
    {
     "name": "stderr",
     "output_type": "stream",
     "text": [
      "100%|██████████| 1/1 [00:05<00:00,  5.22s/it]\n"
     ]
    },
    {
     "name": "stdout",
     "output_type": "stream",
     "text": [
      "Epoch 6/50 | Loss: 0.5815 | NDCG@10: 0.0106 | R@1: 0.0000 | R@10: 0.0273\n"
     ]
    },
    {
     "name": "stderr",
     "output_type": "stream",
     "text": [
      "100%|██████████| 1/1 [00:05<00:00,  5.23s/it]\n"
     ]
    },
    {
     "name": "stdout",
     "output_type": "stream",
     "text": [
      "Epoch 7/50 | Loss: 0.5673 | NDCG@10: 0.0149 | R@1: 0.0039 | R@10: 0.0293\n"
     ]
    },
    {
     "name": "stderr",
     "output_type": "stream",
     "text": [
      "100%|██████████| 1/1 [00:05<00:00,  5.31s/it]\n"
     ]
    },
    {
     "name": "stdout",
     "output_type": "stream",
     "text": [
      "Epoch 8/50 | Loss: 0.5609 | NDCG@10: 0.0139 | R@1: 0.0039 | R@10: 0.0312\n"
     ]
    },
    {
     "name": "stderr",
     "output_type": "stream",
     "text": [
      "100%|██████████| 1/1 [00:05<00:00,  5.52s/it]\n"
     ]
    },
    {
     "name": "stdout",
     "output_type": "stream",
     "text": [
      "Epoch 9/50 | Loss: 0.5581 | NDCG@10: 0.0160 | R@1: 0.0020 | R@10: 0.0352\n"
     ]
    },
    {
     "name": "stderr",
     "output_type": "stream",
     "text": [
      "100%|██████████| 1/1 [00:05<00:00,  5.32s/it]\n"
     ]
    },
    {
     "name": "stdout",
     "output_type": "stream",
     "text": [
      "Epoch 10/50 | Loss: 0.5565 | NDCG@10: 0.0177 | R@1: 0.0039 | R@10: 0.0371\n"
     ]
    },
    {
     "name": "stderr",
     "output_type": "stream",
     "text": [
      "100%|██████████| 1/1 [00:06<00:00,  6.13s/it]\n"
     ]
    },
    {
     "name": "stdout",
     "output_type": "stream",
     "text": [
      "Epoch 11/50 | Loss: 0.5558 | NDCG@10: 0.0128 | R@1: 0.0059 | R@10: 0.0234\n"
     ]
    },
    {
     "name": "stderr",
     "output_type": "stream",
     "text": [
      "100%|██████████| 1/1 [00:05<00:00,  5.68s/it]\n"
     ]
    },
    {
     "name": "stdout",
     "output_type": "stream",
     "text": [
      "Epoch 12/50 | Loss: 0.5537 | NDCG@10: 0.0206 | R@1: 0.0078 | R@10: 0.0391\n"
     ]
    },
    {
     "name": "stderr",
     "output_type": "stream",
     "text": [
      "100%|██████████| 1/1 [00:05<00:00,  5.12s/it]\n"
     ]
    },
    {
     "name": "stdout",
     "output_type": "stream",
     "text": [
      "Epoch 13/50 | Loss: 0.5531 | NDCG@10: 0.0142 | R@1: 0.0059 | R@10: 0.0273\n"
     ]
    },
    {
     "name": "stderr",
     "output_type": "stream",
     "text": [
      "100%|██████████| 1/1 [00:05<00:00,  5.07s/it]\n"
     ]
    },
    {
     "name": "stdout",
     "output_type": "stream",
     "text": [
      "Epoch 14/50 | Loss: 0.5526 | NDCG@10: 0.0154 | R@1: 0.0059 | R@10: 0.0312\n"
     ]
    },
    {
     "name": "stderr",
     "output_type": "stream",
     "text": [
      "100%|██████████| 1/1 [00:05<00:00,  5.51s/it]\n"
     ]
    },
    {
     "name": "stdout",
     "output_type": "stream",
     "text": [
      "Epoch 15/50 | Loss: 0.5520 | NDCG@10: 0.0184 | R@1: 0.0059 | R@10: 0.0391\n"
     ]
    },
    {
     "name": "stderr",
     "output_type": "stream",
     "text": [
      "100%|██████████| 1/1 [00:05<00:00,  5.33s/it]\n"
     ]
    },
    {
     "name": "stdout",
     "output_type": "stream",
     "text": [
      "Epoch 16/50 | Loss: 0.5528 | NDCG@10: 0.0205 | R@1: 0.0078 | R@10: 0.0391\n"
     ]
    },
    {
     "name": "stderr",
     "output_type": "stream",
     "text": [
      "100%|██████████| 1/1 [00:05<00:00,  5.53s/it]\n"
     ]
    },
    {
     "name": "stdout",
     "output_type": "stream",
     "text": [
      "Epoch 17/50 | Loss: 0.5516 | NDCG@10: 0.0113 | R@1: 0.0020 | R@10: 0.0234\n"
     ]
    },
    {
     "name": "stderr",
     "output_type": "stream",
     "text": [
      "100%|██████████| 1/1 [00:05<00:00,  5.22s/it]\n"
     ]
    },
    {
     "name": "stdout",
     "output_type": "stream",
     "text": [
      "Epoch 18/50 | Loss: 0.5501 | NDCG@10: 0.0163 | R@1: 0.0059 | R@10: 0.0332\n"
     ]
    },
    {
     "name": "stderr",
     "output_type": "stream",
     "text": [
      "100%|██████████| 1/1 [00:05<00:00,  5.74s/it]\n"
     ]
    },
    {
     "name": "stdout",
     "output_type": "stream",
     "text": [
      "Epoch 19/50 | Loss: 0.5492 | NDCG@10: 0.0147 | R@1: 0.0039 | R@10: 0.0273\n"
     ]
    },
    {
     "name": "stderr",
     "output_type": "stream",
     "text": [
      "100%|██████████| 1/1 [00:05<00:00,  5.09s/it]\n"
     ]
    },
    {
     "name": "stdout",
     "output_type": "stream",
     "text": [
      "Epoch 20/50 | Loss: 0.5495 | NDCG@10: 0.0144 | R@1: 0.0059 | R@10: 0.0293\n"
     ]
    },
    {
     "name": "stderr",
     "output_type": "stream",
     "text": [
      "100%|██████████| 1/1 [00:05<00:00,  5.67s/it]\n"
     ]
    },
    {
     "name": "stdout",
     "output_type": "stream",
     "text": [
      "Epoch 21/50 | Loss: 0.5493 | NDCG@10: 0.0173 | R@1: 0.0059 | R@10: 0.0332\n"
     ]
    },
    {
     "name": "stderr",
     "output_type": "stream",
     "text": [
      "100%|██████████| 1/1 [00:05<00:00,  5.41s/it]\n"
     ]
    },
    {
     "name": "stdout",
     "output_type": "stream",
     "text": [
      "Epoch 22/50 | Loss: 0.5482 | NDCG@10: 0.0190 | R@1: 0.0098 | R@10: 0.0332\n"
     ]
    },
    {
     "name": "stderr",
     "output_type": "stream",
     "text": [
      "100%|██████████| 1/1 [00:05<00:00,  5.24s/it]\n"
     ]
    },
    {
     "name": "stdout",
     "output_type": "stream",
     "text": [
      "Epoch 23/50 | Loss: 0.5474 | NDCG@10: 0.0235 | R@1: 0.0098 | R@10: 0.0449\n"
     ]
    },
    {
     "name": "stderr",
     "output_type": "stream",
     "text": [
      "100%|██████████| 1/1 [00:05<00:00,  5.60s/it]\n"
     ]
    },
    {
     "name": "stdout",
     "output_type": "stream",
     "text": [
      "Epoch 24/50 | Loss: 0.5467 | NDCG@10: 0.0122 | R@1: 0.0059 | R@10: 0.0234\n"
     ]
    },
    {
     "name": "stderr",
     "output_type": "stream",
     "text": [
      "100%|██████████| 1/1 [00:04<00:00,  4.85s/it]\n"
     ]
    },
    {
     "name": "stdout",
     "output_type": "stream",
     "text": [
      "Epoch 25/50 | Loss: 0.5474 | NDCG@10: 0.0186 | R@1: 0.0059 | R@10: 0.0391\n"
     ]
    },
    {
     "name": "stderr",
     "output_type": "stream",
     "text": [
      "100%|██████████| 1/1 [00:05<00:00,  5.53s/it]\n"
     ]
    },
    {
     "name": "stdout",
     "output_type": "stream",
     "text": [
      "Epoch 26/50 | Loss: 0.5472 | NDCG@10: 0.0195 | R@1: 0.0078 | R@10: 0.0352\n"
     ]
    },
    {
     "name": "stderr",
     "output_type": "stream",
     "text": [
      "100%|██████████| 1/1 [00:05<00:00,  5.26s/it]\n"
     ]
    },
    {
     "name": "stdout",
     "output_type": "stream",
     "text": [
      "Epoch 27/50 | Loss: 0.5475 | NDCG@10: 0.0125 | R@1: 0.0020 | R@10: 0.0254\n"
     ]
    },
    {
     "name": "stderr",
     "output_type": "stream",
     "text": [
      "100%|██████████| 1/1 [00:05<00:00,  5.47s/it]\n"
     ]
    },
    {
     "name": "stdout",
     "output_type": "stream",
     "text": [
      "Epoch 28/50 | Loss: 0.5467 | NDCG@10: 0.0191 | R@1: 0.0039 | R@10: 0.0410\n"
     ]
    },
    {
     "name": "stderr",
     "output_type": "stream",
     "text": [
      "100%|██████████| 1/1 [00:05<00:00,  5.19s/it]\n"
     ]
    },
    {
     "name": "stdout",
     "output_type": "stream",
     "text": [
      "Epoch 29/50 | Loss: 0.5466 | NDCG@10: 0.0143 | R@1: 0.0059 | R@10: 0.0293\n"
     ]
    },
    {
     "name": "stderr",
     "output_type": "stream",
     "text": [
      "100%|██████████| 1/1 [00:05<00:00,  5.54s/it]\n"
     ]
    },
    {
     "name": "stdout",
     "output_type": "stream",
     "text": [
      "Epoch 30/50 | Loss: 0.5452 | NDCG@10: 0.0185 | R@1: 0.0078 | R@10: 0.0332\n"
     ]
    },
    {
     "name": "stderr",
     "output_type": "stream",
     "text": [
      "100%|██████████| 1/1 [00:05<00:00,  5.28s/it]\n"
     ]
    },
    {
     "name": "stdout",
     "output_type": "stream",
     "text": [
      "Epoch 31/50 | Loss: 0.5462 | NDCG@10: 0.0150 | R@1: 0.0039 | R@10: 0.0293\n"
     ]
    },
    {
     "name": "stderr",
     "output_type": "stream",
     "text": [
      "100%|██████████| 1/1 [00:05<00:00,  5.57s/it]\n"
     ]
    },
    {
     "name": "stdout",
     "output_type": "stream",
     "text": [
      "Epoch 32/50 | Loss: 0.5465 | NDCG@10: 0.0112 | R@1: 0.0020 | R@10: 0.0273\n"
     ]
    },
    {
     "name": "stderr",
     "output_type": "stream",
     "text": [
      "100%|██████████| 1/1 [00:05<00:00,  5.08s/it]\n"
     ]
    },
    {
     "name": "stdout",
     "output_type": "stream",
     "text": [
      "Epoch 33/50 | Loss: 0.5472 | NDCG@10: 0.0162 | R@1: 0.0078 | R@10: 0.0273\n"
     ]
    },
    {
     "name": "stderr",
     "output_type": "stream",
     "text": [
      "100%|██████████| 1/1 [00:04<00:00,  4.92s/it]\n"
     ]
    },
    {
     "name": "stdout",
     "output_type": "stream",
     "text": [
      "Epoch 34/50 | Loss: 0.5451 | NDCG@10: 0.0187 | R@1: 0.0039 | R@10: 0.0430\n"
     ]
    },
    {
     "name": "stderr",
     "output_type": "stream",
     "text": [
      "100%|██████████| 1/1 [00:05<00:00,  5.73s/it]\n"
     ]
    },
    {
     "name": "stdout",
     "output_type": "stream",
     "text": [
      "Epoch 35/50 | Loss: 0.5452 | NDCG@10: 0.0194 | R@1: 0.0039 | R@10: 0.0391\n"
     ]
    },
    {
     "name": "stderr",
     "output_type": "stream",
     "text": [
      "100%|██████████| 1/1 [00:05<00:00,  5.68s/it]\n"
     ]
    },
    {
     "name": "stdout",
     "output_type": "stream",
     "text": [
      "Epoch 36/50 | Loss: 0.5446 | NDCG@10: 0.0172 | R@1: 0.0059 | R@10: 0.0312\n"
     ]
    },
    {
     "name": "stderr",
     "output_type": "stream",
     "text": [
      "100%|██████████| 1/1 [00:05<00:00,  5.50s/it]\n"
     ]
    },
    {
     "name": "stdout",
     "output_type": "stream",
     "text": [
      "Epoch 37/50 | Loss: 0.5455 | NDCG@10: 0.0139 | R@1: 0.0039 | R@10: 0.0273\n"
     ]
    },
    {
     "name": "stderr",
     "output_type": "stream",
     "text": [
      "100%|██████████| 1/1 [00:05<00:00,  5.23s/it]\n"
     ]
    },
    {
     "name": "stdout",
     "output_type": "stream",
     "text": [
      "Epoch 38/50 | Loss: 0.5446 | NDCG@10: 0.0144 | R@1: 0.0039 | R@10: 0.0312\n"
     ]
    },
    {
     "name": "stderr",
     "output_type": "stream",
     "text": [
      "100%|██████████| 1/1 [00:05<00:00,  5.33s/it]\n"
     ]
    },
    {
     "name": "stdout",
     "output_type": "stream",
     "text": [
      "Epoch 39/50 | Loss: 0.5436 | NDCG@10: 0.0175 | R@1: 0.0059 | R@10: 0.0352\n"
     ]
    },
    {
     "name": "stderr",
     "output_type": "stream",
     "text": [
      "100%|██████████| 1/1 [00:05<00:00,  5.23s/it]\n"
     ]
    },
    {
     "name": "stdout",
     "output_type": "stream",
     "text": [
      "Epoch 40/50 | Loss: 0.5438 | NDCG@10: 0.0162 | R@1: 0.0039 | R@10: 0.0332\n"
     ]
    },
    {
     "name": "stderr",
     "output_type": "stream",
     "text": [
      "100%|██████████| 1/1 [00:05<00:00,  5.25s/it]\n"
     ]
    },
    {
     "name": "stdout",
     "output_type": "stream",
     "text": [
      "Epoch 41/50 | Loss: 0.5436 | NDCG@10: 0.0101 | R@1: 0.0020 | R@10: 0.0254\n"
     ]
    },
    {
     "name": "stderr",
     "output_type": "stream",
     "text": [
      "100%|██████████| 1/1 [00:05<00:00,  5.11s/it]\n"
     ]
    },
    {
     "name": "stdout",
     "output_type": "stream",
     "text": [
      "Epoch 42/50 | Loss: 0.5419 | NDCG@10: 0.0217 | R@1: 0.0059 | R@10: 0.0410\n"
     ]
    },
    {
     "name": "stderr",
     "output_type": "stream",
     "text": [
      "100%|██████████| 1/1 [00:05<00:00,  5.28s/it]\n"
     ]
    },
    {
     "name": "stdout",
     "output_type": "stream",
     "text": [
      "Epoch 43/50 | Loss: 0.5427 | NDCG@10: 0.0202 | R@1: 0.0059 | R@10: 0.0391\n"
     ]
    },
    {
     "name": "stderr",
     "output_type": "stream",
     "text": [
      "100%|██████████| 1/1 [00:05<00:00,  5.12s/it]\n"
     ]
    },
    {
     "name": "stdout",
     "output_type": "stream",
     "text": [
      "Epoch 44/50 | Loss: 0.5427 | NDCG@10: 0.0176 | R@1: 0.0039 | R@10: 0.0410\n"
     ]
    },
    {
     "name": "stderr",
     "output_type": "stream",
     "text": [
      "100%|██████████| 1/1 [00:05<00:00,  5.12s/it]\n"
     ]
    },
    {
     "name": "stdout",
     "output_type": "stream",
     "text": [
      "Epoch 45/50 | Loss: 0.5435 | NDCG@10: 0.0132 | R@1: 0.0039 | R@10: 0.0293\n"
     ]
    },
    {
     "name": "stderr",
     "output_type": "stream",
     "text": [
      "100%|██████████| 1/1 [00:05<00:00,  5.16s/it]\n"
     ]
    },
    {
     "name": "stdout",
     "output_type": "stream",
     "text": [
      "Epoch 46/50 | Loss: 0.5418 | NDCG@10: 0.0162 | R@1: 0.0039 | R@10: 0.0352\n"
     ]
    },
    {
     "name": "stderr",
     "output_type": "stream",
     "text": [
      "100%|██████████| 1/1 [00:05<00:00,  5.39s/it]\n"
     ]
    },
    {
     "name": "stdout",
     "output_type": "stream",
     "text": [
      "Epoch 47/50 | Loss: 0.5428 | NDCG@10: 0.0141 | R@1: 0.0020 | R@10: 0.0293\n"
     ]
    },
    {
     "name": "stderr",
     "output_type": "stream",
     "text": [
      "100%|██████████| 1/1 [00:05<00:00,  5.25s/it]\n"
     ]
    },
    {
     "name": "stdout",
     "output_type": "stream",
     "text": [
      "Epoch 48/50 | Loss: 0.5418 | NDCG@10: 0.0170 | R@1: 0.0078 | R@10: 0.0332\n"
     ]
    },
    {
     "name": "stderr",
     "output_type": "stream",
     "text": [
      "100%|██████████| 1/1 [00:05<00:00,  5.23s/it]\n"
     ]
    },
    {
     "name": "stdout",
     "output_type": "stream",
     "text": [
      "Epoch 49/50 | Loss: 0.5415 | NDCG@10: 0.0128 | R@1: 0.0059 | R@10: 0.0254\n"
     ]
    },
    {
     "name": "stderr",
     "output_type": "stream",
     "text": [
      "100%|██████████| 1/1 [00:05<00:00,  5.19s/it]"
     ]
    },
    {
     "name": "stdout",
     "output_type": "stream",
     "text": [
      "Epoch 50/50 | Loss: 0.5417 | NDCG@10: 0.0175 | R@1: 0.0059 | R@10: 0.0352\n"
     ]
    },
    {
     "name": "stderr",
     "output_type": "stream",
     "text": [
      "\n"
     ]
    }
   ],
   "source": [
    "sasrec_config = get_sasrec_config('ml1m')\n",
    "sasrec_model, sasrec_history = train_model(sasrec_config, max_epochs=50)"
   ]
  },
  {
   "cell_type": "code",
   "execution_count": 13,
   "metadata": {},
   "outputs": [
    {
     "name": "stdout",
     "output_type": "stream",
     "text": [
      "Training gSASRec...\n"
     ]
    },
    {
     "name": "stderr",
     "output_type": "stream",
     "text": [
      "100%|██████████| 1/1 [00:05<00:00,  5.71s/it]\n"
     ]
    },
    {
     "name": "stdout",
     "output_type": "stream",
     "text": [
      "Epoch 1/50 | Loss: 2.6972 | NDCG@10: 0.0010 | R@1: 0.0000 | R@10: 0.0020\n"
     ]
    },
    {
     "name": "stderr",
     "output_type": "stream",
     "text": [
      "100%|██████████| 1/1 [00:05<00:00,  5.56s/it]\n"
     ]
    },
    {
     "name": "stdout",
     "output_type": "stream",
     "text": [
      "Epoch 2/50 | Loss: 0.8446 | NDCG@10: 0.0010 | R@1: 0.0000 | R@10: 0.0020\n"
     ]
    },
    {
     "name": "stderr",
     "output_type": "stream",
     "text": [
      "100%|██████████| 1/1 [00:05<00:00,  5.69s/it]\n"
     ]
    },
    {
     "name": "stdout",
     "output_type": "stream",
     "text": [
      "Epoch 3/50 | Loss: 0.2593 | NDCG@10: 0.0010 | R@1: 0.0000 | R@10: 0.0020\n"
     ]
    },
    {
     "name": "stderr",
     "output_type": "stream",
     "text": [
      "100%|██████████| 1/1 [00:05<00:00,  5.48s/it]\n"
     ]
    },
    {
     "name": "stdout",
     "output_type": "stream",
     "text": [
      "Epoch 4/50 | Loss: 0.0801 | NDCG@10: 0.0010 | R@1: 0.0000 | R@10: 0.0020\n"
     ]
    },
    {
     "name": "stderr",
     "output_type": "stream",
     "text": [
      "100%|██████████| 1/1 [00:05<00:00,  5.72s/it]\n"
     ]
    },
    {
     "name": "stdout",
     "output_type": "stream",
     "text": [
      "Epoch 5/50 | Loss: 0.0358 | NDCG@10: 0.0012 | R@1: 0.0000 | R@10: 0.0020\n"
     ]
    },
    {
     "name": "stderr",
     "output_type": "stream",
     "text": [
      "100%|██████████| 1/1 [00:05<00:00,  5.58s/it]\n"
     ]
    },
    {
     "name": "stdout",
     "output_type": "stream",
     "text": [
      "Epoch 6/50 | Loss: 0.0252 | NDCG@10: 0.0012 | R@1: 0.0000 | R@10: 0.0020\n"
     ]
    },
    {
     "name": "stderr",
     "output_type": "stream",
     "text": [
      "100%|██████████| 1/1 [00:05<00:00,  5.65s/it]\n"
     ]
    },
    {
     "name": "stdout",
     "output_type": "stream",
     "text": [
      "Epoch 7/50 | Loss: 0.0214 | NDCG@10: 0.0010 | R@1: 0.0000 | R@10: 0.0020\n"
     ]
    },
    {
     "name": "stderr",
     "output_type": "stream",
     "text": [
      "100%|██████████| 1/1 [00:05<00:00,  5.30s/it]\n"
     ]
    },
    {
     "name": "stdout",
     "output_type": "stream",
     "text": [
      "Epoch 8/50 | Loss: 0.0195 | NDCG@10: 0.0010 | R@1: 0.0000 | R@10: 0.0020\n"
     ]
    },
    {
     "name": "stderr",
     "output_type": "stream",
     "text": [
      "100%|██████████| 1/1 [00:05<00:00,  5.12s/it]\n"
     ]
    },
    {
     "name": "stdout",
     "output_type": "stream",
     "text": [
      "Epoch 9/50 | Loss: 0.0179 | NDCG@10: 0.0010 | R@1: 0.0000 | R@10: 0.0020\n"
     ]
    },
    {
     "name": "stderr",
     "output_type": "stream",
     "text": [
      "100%|██████████| 1/1 [00:05<00:00,  5.12s/it]\n"
     ]
    },
    {
     "name": "stdout",
     "output_type": "stream",
     "text": [
      "Epoch 10/50 | Loss: 0.0168 | NDCG@10: 0.0010 | R@1: 0.0000 | R@10: 0.0020\n"
     ]
    },
    {
     "name": "stderr",
     "output_type": "stream",
     "text": [
      "100%|██████████| 1/1 [00:04<00:00,  4.77s/it]\n"
     ]
    },
    {
     "name": "stdout",
     "output_type": "stream",
     "text": [
      "Epoch 11/50 | Loss: 0.0161 | NDCG@10: 0.0008 | R@1: 0.0000 | R@10: 0.0020\n"
     ]
    },
    {
     "name": "stderr",
     "output_type": "stream",
     "text": [
      "100%|██████████| 1/1 [00:05<00:00,  5.59s/it]\n"
     ]
    },
    {
     "name": "stdout",
     "output_type": "stream",
     "text": [
      "Epoch 12/50 | Loss: 0.0153 | NDCG@10: 0.0007 | R@1: 0.0000 | R@10: 0.0020\n"
     ]
    },
    {
     "name": "stderr",
     "output_type": "stream",
     "text": [
      "100%|██████████| 1/1 [00:05<00:00,  5.56s/it]\n"
     ]
    },
    {
     "name": "stdout",
     "output_type": "stream",
     "text": [
      "Epoch 13/50 | Loss: 0.0148 | NDCG@10: 0.0018 | R@1: 0.0000 | R@10: 0.0059\n"
     ]
    },
    {
     "name": "stderr",
     "output_type": "stream",
     "text": [
      "100%|██████████| 1/1 [00:05<00:00,  5.34s/it]\n"
     ]
    },
    {
     "name": "stdout",
     "output_type": "stream",
     "text": [
      "Epoch 14/50 | Loss: 0.0142 | NDCG@10: 0.0027 | R@1: 0.0000 | R@10: 0.0059\n"
     ]
    },
    {
     "name": "stderr",
     "output_type": "stream",
     "text": [
      "100%|██████████| 1/1 [00:05<00:00,  5.14s/it]\n"
     ]
    },
    {
     "name": "stdout",
     "output_type": "stream",
     "text": [
      "Epoch 15/50 | Loss: 0.0139 | NDCG@10: 0.0045 | R@1: 0.0020 | R@10: 0.0078\n"
     ]
    },
    {
     "name": "stderr",
     "output_type": "stream",
     "text": [
      "100%|██████████| 1/1 [00:05<00:00,  5.29s/it]\n"
     ]
    },
    {
     "name": "stdout",
     "output_type": "stream",
     "text": [
      "Epoch 16/50 | Loss: 0.0135 | NDCG@10: 0.0079 | R@1: 0.0039 | R@10: 0.0156\n"
     ]
    },
    {
     "name": "stderr",
     "output_type": "stream",
     "text": [
      "100%|██████████| 1/1 [00:05<00:00,  5.45s/it]\n"
     ]
    },
    {
     "name": "stdout",
     "output_type": "stream",
     "text": [
      "Epoch 17/50 | Loss: 0.0132 | NDCG@10: 0.0124 | R@1: 0.0039 | R@10: 0.0293\n"
     ]
    },
    {
     "name": "stderr",
     "output_type": "stream",
     "text": [
      "100%|██████████| 1/1 [00:05<00:00,  5.40s/it]\n"
     ]
    },
    {
     "name": "stdout",
     "output_type": "stream",
     "text": [
      "Epoch 18/50 | Loss: 0.0129 | NDCG@10: 0.0187 | R@1: 0.0059 | R@10: 0.0410\n"
     ]
    },
    {
     "name": "stderr",
     "output_type": "stream",
     "text": [
      "100%|██████████| 1/1 [00:05<00:00,  5.61s/it]\n"
     ]
    },
    {
     "name": "stdout",
     "output_type": "stream",
     "text": [
      "Epoch 19/50 | Loss: 0.0126 | NDCG@10: 0.0168 | R@1: 0.0059 | R@10: 0.0352\n"
     ]
    },
    {
     "name": "stderr",
     "output_type": "stream",
     "text": [
      "100%|██████████| 1/1 [00:05<00:00,  5.49s/it]\n"
     ]
    },
    {
     "name": "stdout",
     "output_type": "stream",
     "text": [
      "Epoch 20/50 | Loss: 0.0123 | NDCG@10: 0.0151 | R@1: 0.0039 | R@10: 0.0312\n"
     ]
    },
    {
     "name": "stderr",
     "output_type": "stream",
     "text": [
      "100%|██████████| 1/1 [00:05<00:00,  5.37s/it]\n"
     ]
    },
    {
     "name": "stdout",
     "output_type": "stream",
     "text": [
      "Epoch 21/50 | Loss: 0.0122 | NDCG@10: 0.0175 | R@1: 0.0059 | R@10: 0.0352\n"
     ]
    },
    {
     "name": "stderr",
     "output_type": "stream",
     "text": [
      "100%|██████████| 1/1 [00:05<00:00,  5.73s/it]\n"
     ]
    },
    {
     "name": "stdout",
     "output_type": "stream",
     "text": [
      "Epoch 22/50 | Loss: 0.0120 | NDCG@10: 0.0159 | R@1: 0.0039 | R@10: 0.0371\n"
     ]
    },
    {
     "name": "stderr",
     "output_type": "stream",
     "text": [
      "100%|██████████| 1/1 [00:05<00:00,  5.29s/it]\n"
     ]
    },
    {
     "name": "stdout",
     "output_type": "stream",
     "text": [
      "Epoch 23/50 | Loss: 0.0117 | NDCG@10: 0.0172 | R@1: 0.0059 | R@10: 0.0352\n"
     ]
    },
    {
     "name": "stderr",
     "output_type": "stream",
     "text": [
      "100%|██████████| 1/1 [00:05<00:00,  5.11s/it]\n"
     ]
    },
    {
     "name": "stdout",
     "output_type": "stream",
     "text": [
      "Epoch 24/50 | Loss: 0.0115 | NDCG@10: 0.0180 | R@1: 0.0059 | R@10: 0.0391\n"
     ]
    },
    {
     "name": "stderr",
     "output_type": "stream",
     "text": [
      "100%|██████████| 1/1 [00:05<00:00,  5.06s/it]\n"
     ]
    },
    {
     "name": "stdout",
     "output_type": "stream",
     "text": [
      "Epoch 25/50 | Loss: 0.0114 | NDCG@10: 0.0163 | R@1: 0.0039 | R@10: 0.0371\n"
     ]
    },
    {
     "name": "stderr",
     "output_type": "stream",
     "text": [
      "100%|██████████| 1/1 [00:04<00:00,  4.78s/it]\n"
     ]
    },
    {
     "name": "stdout",
     "output_type": "stream",
     "text": [
      "Epoch 26/50 | Loss: 0.0112 | NDCG@10: 0.0140 | R@1: 0.0039 | R@10: 0.0332\n"
     ]
    },
    {
     "name": "stderr",
     "output_type": "stream",
     "text": [
      "100%|██████████| 1/1 [00:04<00:00,  4.97s/it]\n"
     ]
    },
    {
     "name": "stdout",
     "output_type": "stream",
     "text": [
      "Epoch 27/50 | Loss: 0.0110 | NDCG@10: 0.0126 | R@1: 0.0020 | R@10: 0.0312\n"
     ]
    },
    {
     "name": "stderr",
     "output_type": "stream",
     "text": [
      "100%|██████████| 1/1 [00:05<00:00,  5.05s/it]\n"
     ]
    },
    {
     "name": "stdout",
     "output_type": "stream",
     "text": [
      "Epoch 28/50 | Loss: 0.0109 | NDCG@10: 0.0136 | R@1: 0.0020 | R@10: 0.0332\n"
     ]
    },
    {
     "name": "stderr",
     "output_type": "stream",
     "text": [
      "100%|██████████| 1/1 [00:05<00:00,  5.33s/it]\n"
     ]
    },
    {
     "name": "stdout",
     "output_type": "stream",
     "text": [
      "Epoch 29/50 | Loss: 0.0107 | NDCG@10: 0.0142 | R@1: 0.0020 | R@10: 0.0371\n"
     ]
    },
    {
     "name": "stderr",
     "output_type": "stream",
     "text": [
      "100%|██████████| 1/1 [00:04<00:00,  4.97s/it]\n"
     ]
    },
    {
     "name": "stdout",
     "output_type": "stream",
     "text": [
      "Epoch 30/50 | Loss: 0.0106 | NDCG@10: 0.0108 | R@1: 0.0020 | R@10: 0.0254\n"
     ]
    },
    {
     "name": "stderr",
     "output_type": "stream",
     "text": [
      "100%|██████████| 1/1 [00:05<00:00,  5.45s/it]\n"
     ]
    },
    {
     "name": "stdout",
     "output_type": "stream",
     "text": [
      "Epoch 31/50 | Loss: 0.0105 | NDCG@10: 0.0121 | R@1: 0.0020 | R@10: 0.0293\n"
     ]
    },
    {
     "name": "stderr",
     "output_type": "stream",
     "text": [
      "100%|██████████| 1/1 [00:05<00:00,  5.97s/it]\n"
     ]
    },
    {
     "name": "stdout",
     "output_type": "stream",
     "text": [
      "Epoch 32/50 | Loss: 0.0104 | NDCG@10: 0.0151 | R@1: 0.0020 | R@10: 0.0371\n"
     ]
    },
    {
     "name": "stderr",
     "output_type": "stream",
     "text": [
      "100%|██████████| 1/1 [00:05<00:00,  5.54s/it]\n"
     ]
    },
    {
     "name": "stdout",
     "output_type": "stream",
     "text": [
      "Epoch 33/50 | Loss: 0.0103 | NDCG@10: 0.0123 | R@1: 0.0039 | R@10: 0.0273\n"
     ]
    },
    {
     "name": "stderr",
     "output_type": "stream",
     "text": [
      "100%|██████████| 1/1 [00:05<00:00,  5.71s/it]\n"
     ]
    },
    {
     "name": "stdout",
     "output_type": "stream",
     "text": [
      "Epoch 34/50 | Loss: 0.0102 | NDCG@10: 0.0156 | R@1: 0.0020 | R@10: 0.0391\n"
     ]
    },
    {
     "name": "stderr",
     "output_type": "stream",
     "text": [
      "100%|██████████| 1/1 [00:05<00:00,  5.65s/it]\n"
     ]
    },
    {
     "name": "stdout",
     "output_type": "stream",
     "text": [
      "Epoch 35/50 | Loss: 0.0101 | NDCG@10: 0.0127 | R@1: 0.0020 | R@10: 0.0312\n"
     ]
    },
    {
     "name": "stderr",
     "output_type": "stream",
     "text": [
      "100%|██████████| 1/1 [00:05<00:00,  5.52s/it]\n"
     ]
    },
    {
     "name": "stdout",
     "output_type": "stream",
     "text": [
      "Epoch 36/50 | Loss: 0.0100 | NDCG@10: 0.0142 | R@1: 0.0020 | R@10: 0.0352\n"
     ]
    },
    {
     "name": "stderr",
     "output_type": "stream",
     "text": [
      "100%|██████████| 1/1 [00:05<00:00,  5.22s/it]\n"
     ]
    },
    {
     "name": "stdout",
     "output_type": "stream",
     "text": [
      "Epoch 37/50 | Loss: 0.0099 | NDCG@10: 0.0124 | R@1: 0.0020 | R@10: 0.0312\n"
     ]
    },
    {
     "name": "stderr",
     "output_type": "stream",
     "text": [
      "100%|██████████| 1/1 [00:05<00:00,  5.49s/it]\n"
     ]
    },
    {
     "name": "stdout",
     "output_type": "stream",
     "text": [
      "Epoch 38/50 | Loss: 0.0099 | NDCG@10: 0.0127 | R@1: 0.0020 | R@10: 0.0293\n"
     ]
    },
    {
     "name": "stderr",
     "output_type": "stream",
     "text": [
      "100%|██████████| 1/1 [00:05<00:00,  5.92s/it]\n"
     ]
    },
    {
     "name": "stdout",
     "output_type": "stream",
     "text": [
      "Epoch 39/50 | Loss: 0.0098 | NDCG@10: 0.0147 | R@1: 0.0039 | R@10: 0.0352\n"
     ]
    },
    {
     "name": "stderr",
     "output_type": "stream",
     "text": [
      "100%|██████████| 1/1 [00:04<00:00,  4.98s/it]\n"
     ]
    },
    {
     "name": "stdout",
     "output_type": "stream",
     "text": [
      "Epoch 40/50 | Loss: 0.0097 | NDCG@10: 0.0137 | R@1: 0.0020 | R@10: 0.0352\n"
     ]
    },
    {
     "name": "stderr",
     "output_type": "stream",
     "text": [
      "100%|██████████| 1/1 [00:05<00:00,  5.26s/it]\n"
     ]
    },
    {
     "name": "stdout",
     "output_type": "stream",
     "text": [
      "Epoch 41/50 | Loss: 0.0097 | NDCG@10: 0.0142 | R@1: 0.0020 | R@10: 0.0332\n"
     ]
    },
    {
     "name": "stderr",
     "output_type": "stream",
     "text": [
      "100%|██████████| 1/1 [00:05<00:00,  5.44s/it]\n"
     ]
    },
    {
     "name": "stdout",
     "output_type": "stream",
     "text": [
      "Epoch 42/50 | Loss: 0.0096 | NDCG@10: 0.0146 | R@1: 0.0020 | R@10: 0.0352\n"
     ]
    },
    {
     "name": "stderr",
     "output_type": "stream",
     "text": [
      "100%|██████████| 1/1 [00:05<00:00,  5.52s/it]\n"
     ]
    },
    {
     "name": "stdout",
     "output_type": "stream",
     "text": [
      "Epoch 43/50 | Loss: 0.0096 | NDCG@10: 0.0128 | R@1: 0.0020 | R@10: 0.0312\n"
     ]
    },
    {
     "name": "stderr",
     "output_type": "stream",
     "text": [
      "100%|██████████| 1/1 [00:04<00:00,  4.69s/it]\n"
     ]
    },
    {
     "name": "stdout",
     "output_type": "stream",
     "text": [
      "Epoch 44/50 | Loss: 0.0095 | NDCG@10: 0.0140 | R@1: 0.0020 | R@10: 0.0332\n"
     ]
    },
    {
     "name": "stderr",
     "output_type": "stream",
     "text": [
      "100%|██████████| 1/1 [00:05<00:00,  5.42s/it]\n"
     ]
    },
    {
     "name": "stdout",
     "output_type": "stream",
     "text": [
      "Epoch 45/50 | Loss: 0.0095 | NDCG@10: 0.0136 | R@1: 0.0039 | R@10: 0.0312\n"
     ]
    },
    {
     "name": "stderr",
     "output_type": "stream",
     "text": [
      "100%|██████████| 1/1 [00:05<00:00,  5.37s/it]\n"
     ]
    },
    {
     "name": "stdout",
     "output_type": "stream",
     "text": [
      "Epoch 46/50 | Loss: 0.0094 | NDCG@10: 0.0147 | R@1: 0.0020 | R@10: 0.0332\n"
     ]
    },
    {
     "name": "stderr",
     "output_type": "stream",
     "text": [
      "100%|██████████| 1/1 [00:05<00:00,  5.58s/it]\n"
     ]
    },
    {
     "name": "stdout",
     "output_type": "stream",
     "text": [
      "Epoch 47/50 | Loss: 0.0094 | NDCG@10: 0.0127 | R@1: 0.0020 | R@10: 0.0312\n"
     ]
    },
    {
     "name": "stderr",
     "output_type": "stream",
     "text": [
      "100%|██████████| 1/1 [00:05<00:00,  5.37s/it]\n"
     ]
    },
    {
     "name": "stdout",
     "output_type": "stream",
     "text": [
      "Epoch 48/50 | Loss: 0.0094 | NDCG@10: 0.0124 | R@1: 0.0020 | R@10: 0.0293\n"
     ]
    },
    {
     "name": "stderr",
     "output_type": "stream",
     "text": [
      "100%|██████████| 1/1 [00:05<00:00,  5.15s/it]\n"
     ]
    },
    {
     "name": "stdout",
     "output_type": "stream",
     "text": [
      "Epoch 49/50 | Loss: 0.0093 | NDCG@10: 0.0133 | R@1: 0.0039 | R@10: 0.0293\n"
     ]
    },
    {
     "name": "stderr",
     "output_type": "stream",
     "text": [
      "100%|██████████| 1/1 [00:05<00:00,  5.03s/it]"
     ]
    },
    {
     "name": "stdout",
     "output_type": "stream",
     "text": [
      "Epoch 50/50 | Loss: 0.0093 | NDCG@10: 0.0125 | R@1: 0.0020 | R@10: 0.0312\n"
     ]
    },
    {
     "name": "stderr",
     "output_type": "stream",
     "text": [
      "\n"
     ]
    }
   ],
   "source": [
    "gsasrec_config = get_gsasrec_config('ml1m')\n",
    "gsasrec_model, gsasrec_history = train_model(gsasrec_config, max_epochs=50)"
   ]
  },
  {
   "cell_type": "markdown",
   "metadata": {},
   "source": [
    "### 4.1 Training Curves Comparison"
   ]
  },
  {
   "cell_type": "code",
   "execution_count": 14,
   "metadata": {},
   "outputs": [
    {
     "data": {
      "image/png": "[encoded data removed]",
      "text/plain": [
       "<Figure size 1800x500 with 3 Axes>"
      ]
     },
     "metadata": {},
     "output_type": "display_data"
    }
   ],
   "source": [
    "fig, axes = plt.subplots(1, 3, figsize=(18, 5))\n",
    "\n",
    "axes[0].plot(sasrec_history['val_ndcg'], label='SASRec', marker='o', alpha=0.7)\n",
    "axes[0].plot(gsasrec_history['val_ndcg'], label='gSASRec', marker='s', alpha=0.7)\n",
    "axes[0].set_xlabel('Epoch')\n",
    "axes[0].set_ylabel('NDCG@10')\n",
    "axes[0].set_title('Validation NDCG@10')\n",
    "axes[0].legend()\n",
    "axes[0].grid(True, alpha=0.3)\n",
    "\n",
    "axes[1].plot(sasrec_history['val_recall_1'], label='SASRec', marker='o', alpha=0.7)\n",
    "axes[1].plot(gsasrec_history['val_recall_1'], label='gSASRec', marker='s', alpha=0.7)\n",
    "axes[1].set_xlabel('Epoch')\n",
    "axes[1].set_ylabel('Recall@1')\n",
    "axes[1].set_title('Validation Recall@1')\n",
    "axes[1].legend()\n",
    "axes[1].grid(True, alpha=0.3)\n",
    "\n",
    "axes[2].plot(sasrec_history['val_recall_10'], label='SASRec', marker='o', alpha=0.7)\n",
    "axes[2].plot(gsasrec_history['val_recall_10'], label='gSASRec', marker='s', alpha=0.7)\n",
    "axes[2].set_xlabel('Epoch')\n",
    "axes[2].set_ylabel('Recall@10')\n",
    "axes[2].set_title('Validation Recall@10')\n",
    "axes[2].legend()\n",
    "axes[2].grid(True, alpha=0.3)\n",
    "\n",
    "plt.tight_layout()\n",
    "plt.show()"
   ]
  },
  {
   "cell_type": "markdown",
   "metadata": {},
   "source": [
    "### 4.2 Test Set Evaluation"
   ]
  },
  {
   "cell_type": "code",
   "execution_count": null,
   "metadata": {},
   "outputs": [],
   "source": [
    "test_loader = get_test_dataloader('ml1m', batch_size=512, max_length=200)\n",
    "\n",
    "sasrec_test_results = evaluate(\n",
    "    sasrec_model, test_loader,\n",
    "    [nDCG@10, R@1, R@10],\n",
    "    10, True, device\n",
    ")\n",
    "\n",
    "gsasrec_test_results = evaluate(\n",
    "    gsasrec_model, test_loader,\n",
    "    [nDCG@10, R@1, R@10],\n",
    "    10, True, device\n",
    ")\n",
    "\n",
    "results_df = pd.DataFrame({\n",
    "    'Model': ['SASRec', 'gSASRec'],\n",
    "    'NDCG@10': [float(sasrec_test_results[nDCG@10]), float(gsasrec_test_results[nDCG@10])],\n",
    "    'Recall@1': [float(sasrec_test_results[R@1]), float(gsasrec_test_results[R@1])],\n",
    "    'Recall@10': [float(sasrec_test_results[R@10]), float(gsasrec_test_results[R@10])]\n",
    "})\n",
    "\n"
   ]
  },
  {
   "cell_type": "markdown",
   "metadata": {},
   "source": [
    "## 5. Ablation Study: Impact of Key Components\n",
    "\n",
    "Analyze which components contribute most to gSASRec's performance:\n",
    "1. Number of negative samples\n",
    "2. Calibration parameter t\n",
    "3. Embedding reuse strategy"
   ]
  },
  {
   "cell_type": "markdown",
   "metadata": {},
   "source": [
    "### 5.1 Number of Negative Samples"
   ]
  },
  {
   "cell_type": "code",
   "execution_count": null,
   "metadata": {},
   "outputs": [],
   "source": [
    "neg_samples = [1, 32, 64, 128, 256]\n",
    "neg_results = []\n",
    "\n",
    "for n_negs in neg_samples:\n",
    "    config = ExperimentConfig(\n",
    "        dataset_name='ml1m',\n",
    "        embedding_dim=128,\n",
    "        num_heads=1,\n",
    "        num_blocks=2,\n",
    "        dropout_rate=0.5,\n",
    "        negs_per_pos=n_negs,\n",
    "        gbce_t=0.75,\n",
    "        max_batches_per_epoch=50\n",
    "    )\n",
    "    model, history = train_model(config, max_epochs=30, verbose=False)\n",
    "\n",
    "    test_results = evaluate(model, test_loader, [nDCG@10, R@10], 10, True, device)\n",
    "    neg_results.append({\n",
    "        'n_negs': n_negs,\n",
    "        'ndcg': float(test_results[nDCG@10]),\n",
    "        'recall': float(test_results[R@10])\n",
    "    })\n",
    "\n",
    "neg_df = pd.DataFrame(neg_results)"
   ]
  },
  {
   "cell_type": "code",
   "execution_count": null,
   "metadata": {},
   "outputs": [],
   "source": [
    "fig, axes = plt.subplots(1, 2, figsize=(12, 5))\n",
    "\n",
    "axes[0].plot(neg_df['n_negs'], neg_df['ndcg'], marker='o', linewidth=2)\n",
    "axes[0].set_xlabel('Number of Negative Samples')\n",
    "axes[0].set_ylabel('NDCG@10')\n",
    "axes[0].set_title('Impact of Negative Sampling')\n",
    "axes[0].set_xscale('log', base=2)\n",
    "axes[0].grid(True, alpha=0.3)\n",
    "\n",
    "axes[1].plot(neg_df['n_negs'], neg_df['recall'], marker='o', linewidth=2, color='orange')\n",
    "axes[1].set_xlabel('Number of Negative Samples')\n",
    "axes[1].set_ylabel('Recall@10')\n",
    "axes[1].set_title('Impact of Negative Sampling')\n",
    "axes[1].set_xscale('log', base=2)\n",
    "axes[1].grid(True, alpha=0.3)\n",
    "\n",
    "plt.tight_layout()\n",
    "plt.show()"
   ]
  },
  {
   "cell_type": "markdown",
   "metadata": {},
   "source": [
    "### 5.2 Calibration Parameter t"
   ]
  },
  {
   "cell_type": "code",
   "execution_count": null,
   "metadata": {},
   "outputs": [],
   "source": [
    "t_values = [0.0, 0.25, 0.5, 0.75, 1.0]\n",
    "t_results = []\n",
    "\n",
    "for t in t_values:\n",
    "    config = ExperimentConfig(\n",
    "        dataset_name='ml1m',\n",
    "        embedding_dim=128,\n",
    "        num_heads=1,\n",
    "        num_blocks=2,\n",
    "        dropout_rate=0.5,\n",
    "        negs_per_pos=256,\n",
    "        gbce_t=t,\n",
    "        max_batches_per_epoch=50\n",
    "    )\n",
    "    model, history = train_model(config, max_epochs=30, verbose=False)\n",
    "\n",
    "    test_results = evaluate(model, test_loader, [nDCG@10, R@10], 10, True, device)\n",
    "    t_results.append({\n",
    "        't': t,\n",
    "        'ndcg': float(test_results[nDCG@10]),\n",
    "        'recall': float(test_results[R@10])\n",
    "    })\n",
    "\n",
    "t_df = pd.DataFrame(t_results)"
   ]
  },
  {
   "cell_type": "code",
   "execution_count": null,
   "metadata": {},
   "outputs": [],
   "source": [
    "fig, axes = plt.subplots(1, 2, figsize=(12, 5))\n",
    "\n",
    "axes[0].plot(t_df['t'], t_df['ndcg'], marker='o', linewidth=2)\n",
    "axes[0].set_xlabel('Calibration Parameter t')\n",
    "axes[0].set_ylabel('NDCG@10')\n",
    "axes[0].set_title('Impact of Loss Calibration')\n",
    "axes[0].grid(True, alpha=0.3)\n",
    "\n",
    "axes[1].plot(t_df['t'], t_df['recall'], marker='o', linewidth=2, color='orange')\n",
    "axes[1].set_xlabel('Calibration Parameter t')\n",
    "axes[1].set_ylabel('Recall@10')\n",
    "axes[1].set_title('Impact of Loss Calibration')\n",
    "axes[1].grid(True, alpha=0.3)\n",
    "\n",
    "plt.tight_layout()\n",
    "plt.show()"
   ]
  },
  {
   "cell_type": "markdown",
   "metadata": {},
   "source": [
    "## 6. Parameter Sensitivity Analysis\n",
    "\n",
    "Study the impact of model hyperparameters"
   ]
  },
  {
   "cell_type": "markdown",
   "metadata": {},
   "source": [
    "### 6.1 Embedding Dimension"
   ]
  },
  {
   "cell_type": "code",
   "execution_count": null,
   "metadata": {},
   "outputs": [],
   "source": [
    "embedding_dims = [32, 64, 128, 256]\n",
    "emb_results = []\n",
    "\n",
    "for emb_dim in embedding_dims:\n",
    "    config = get_gsasrec_config('ml1m')\n",
    "    config.embedding_dim = emb_dim\n",
    "    config.max_batches_per_epoch = 50\n",
    "\n",
    "    model, history = train_model(config, max_epochs=30, verbose=False)\n",
    "    test_results = evaluate(model, test_loader, [nDCG@10, R@10], 10, True, device)\n",
    "\n",
    "    emb_results.append({\n",
    "        'emb_dim': emb_dim,\n",
    "        'ndcg': float(test_results[nDCG@10]),\n",
    "        'recall': float(test_results[R@10])\n",
    "    })\n",
    "\n",
    "emb_df = pd.DataFrame(emb_results)"
   ]
  },
  {
   "cell_type": "markdown",
   "metadata": {},
   "source": [
    "### 6.2 Number of Transformer Blocks"
   ]
  },
  {
   "cell_type": "code",
   "execution_count": null,
   "metadata": {},
   "outputs": [],
   "source": [
    "num_blocks_list = [1, 2, 3, 4]\n",
    "blocks_results = []\n",
    "\n",
    "for n_blocks in num_blocks_list:\n",
    "    config = get_gsasrec_config('ml1m')\n",
    "    config.num_blocks = n_blocks\n",
    "    config.max_batches_per_epoch = 50\n",
    "\n",
    "    model, history = train_model(config, max_epochs=30, verbose=False)\n",
    "    test_results = evaluate(model, test_loader, [nDCG@10, R@10], 10, True, device)\n",
    "\n",
    "    blocks_results.append({\n",
    "        'n_blocks': n_blocks,\n",
    "        'ndcg': float(test_results[nDCG@10]),\n",
    "        'recall': float(test_results[R@10])\n",
    "    })\n",
    "\n",
    "blocks_df = pd.DataFrame(blocks_results)"
   ]
  },
  {
   "cell_type": "markdown",
   "metadata": {},
   "source": [
    "### 6.3 Dropout Rate"
   ]
  },
  {
   "cell_type": "code",
   "execution_count": null,
   "metadata": {},
   "outputs": [],
   "source": [
    "dropout_rates = [0.0, 0.2, 0.3, 0.5, 0.7]\n",
    "dropout_results = []\n",
    "\n",
    "for dropout in dropout_rates:\n",
    "    config = get_gsasrec_config('ml1m')\n",
    "    config.dropout_rate = dropout\n",
    "    config.max_batches_per_epoch = 50\n",
    "\n",
    "    model, history = train_model(config, max_epochs=30, verbose=False)\n",
    "    test_results = evaluate(model, test_loader, [nDCG@10, R@10], 10, True, device)\n",
    "\n",
    "    dropout_results.append({\n",
    "        'dropout': dropout,\n",
    "        'ndcg': float(test_results[nDCG@10]),\n",
    "        'recall': float(test_results[R@10])\n",
    "    })\n",
    "\n",
    "dropout_df = pd.DataFrame(dropout_results)"
   ]
  },
  {
   "cell_type": "markdown",
   "metadata": {},
   "source": [
    "### 6.4 Parameter Sensitivity Visualization"
   ]
  },
  {
   "cell_type": "code",
   "execution_count": null,
   "metadata": {},
   "outputs": [],
   "source": [
    "fig, axes = plt.subplots(1, 3, figsize=(18, 5))\n",
    "\n",
    "axes[0].plot(emb_df['emb_dim'], emb_df['ndcg'], marker='o', linewidth=2)\n",
    "axes[0].set_xlabel('Embedding Dimension')\n",
    "axes[0].set_ylabel('NDCG@10')\n",
    "axes[0].set_title('Embedding Dimension Sensitivity')\n",
    "axes[0].grid(True, alpha=0.3)\n",
    "\n",
    "axes[1].plot(blocks_df['n_blocks'], blocks_df['ndcg'], marker='o', linewidth=2)\n",
    "axes[1].set_xlabel('Number of Transformer Blocks')\n",
    "axes[1].set_ylabel('NDCG@10')\n",
    "axes[1].set_title('Model Depth Sensitivity')\n",
    "axes[1].grid(True, alpha=0.3)\n",
    "\n",
    "axes[2].plot(dropout_df['dropout'], dropout_df['ndcg'], marker='o', linewidth=2)\n",
    "axes[2].set_xlabel('Dropout Rate')\n",
    "axes[2].set_ylabel('NDCG@10')\n",
    "axes[2].set_title('Dropout Sensitivity')\n",
    "axes[2].grid(True, alpha=0.3)\n",
    "\n",
    "plt.tight_layout()\n",
    "plt.show()"
   ]
  },
  {
   "cell_type": "markdown",
   "metadata": {},
   "source": [
    "## 7. Summary of Results\n",
    "\n",
    "Consolidate all experimental findings"
   ]
  },
  {
   "cell_type": "code",
   "execution_count": null,
   "metadata": {},
   "outputs": [],
   "source": [
    "summary = {\n",
    "    'Best Config': {\n",
    "        'embedding_dim': int(emb_df.loc[emb_df['ndcg'].idxmax(), 'emb_dim']),\n",
    "        'num_blocks': int(blocks_df.loc[blocks_df['ndcg'].idxmax(), 'n_blocks']),\n",
    "        'dropout': float(dropout_df.loc[dropout_df['ndcg'].idxmax(), 'dropout']),\n",
    "        'negs_per_pos': int(neg_df.loc[neg_df['ndcg'].idxmax(), 'n_negs']),\n",
    "        'gbce_t': float(t_df.loc[t_df['ndcg'].idxmax(), 't'])\n",
    "    }\n",
    "}\n",
    "\n",
    "for key, value in summary['Best Config'].items():\n"
   ]
  },
  {
   "cell_type": "markdown",
   "metadata": {},
   "source": [
    "## 8. Discussion\n",
    "\n",
    "### Key Findings:\n",
    "\n",
    "1. **gSASRec Improvements**: [Analyze the performance gap]\n",
    "2. **Negative Sampling**: [Discuss the impact of more negatives]\n",
    "3. **Calibration**: [Explain the role of t parameter]\n",
    "4. **Optimal Parameters**: [Recommendations for hyperparameters]\n",
    "5. **Computational Trade-offs**: [Training time vs performance]\n",
    "\n",
    "### Strengths and Weaknesses:\n",
    "\n",
    "**SASRec Strengths**:\n",
    "- Faster training (fewer negatives)\n",
    "- Simpler to tune\n",
    "\n",
    "**SASRec Weaknesses**:\n",
    "- Lower performance\n",
    "- Overconfident predictions\n",
    "\n",
    "**gSASRec Strengths**:\n",
    "- Better recommendation quality\n",
    "- Calibrated probabilities\n",
    "- More robust to hyperparameters\n",
    "\n",
    "**gSASRec Weaknesses**:\n",
    "- Slower training\n",
    "- More memory intensive"
   ]
  },
  {
   "cell_type": "markdown",
   "metadata": {},
   "source": [
    "# Amazon Electronics with gSASRec: From Scratch\n",
    "\n",
    "This section is self-contained: it preprocesses the Amazon Electronics CSV to SASRec format (next-item and next-basket), builds loaders, trains gSASRec, and evaluates with leave-last splits.\n"
   ]
  },
  {
   "cell_type": "code",
   "execution_count": 25,
   "metadata": {},
   "outputs": [
    {
     "name": "stdout",
     "output_type": "stream",
     "text": [
      "Exists: datasets/ratings_Electronics_1\n",
      "Exists: datasets/ratings_Electronics_1_nb\n",
      "next-item stats: {'num_users': 124895, 'num_items': 44843, 'num_interactions': 1072740, 'target': 'next-item', 'max_seq_len': 50, 'pad_token_id': 44844}\n",
      "next-basket stats: {'num_users': 118620, 'num_items': 44843, 'num_interactions': 1072740, 'target': 'next-basket', 'max_seq_len': 50, 'pad_token_id': 44844}\n"
     ]
    }
   ],
   "source": [
    "# 1) Preprocess to SASRec format (idempotent)\n",
    "import os, subprocess, json\n",
    "\n",
    "root_csv = os.path.join('..', 'ratings_Electronics (1).csv')\n",
    "dataset_item = 'ratings_Electronics_1'\n",
    "dataset_basket = 'ratings_Electronics_1_nb'\n",
    "out_dir_item = os.path.join('datasets', dataset_item)\n",
    "out_dir_basket = os.path.join('datasets', dataset_basket)\n",
    "\n",
    "def run_preprocess(target, out_dir):\n",
    "    if os.path.exists(out_dir) and os.path.exists(os.path.join(out_dir, 'dataset_stats.json')):\n",
    "        print(f'Exists: {out_dir}')\n",
    "        return\n",
    "    cmd = [\n",
    "        'python3', 'preprocess_csv.py',\n",
    "        '--input_csv', root_csv,\n",
    "        '--output_dir', out_dir,\n",
    "        '--target', target,\n",
    "        '--positive-threshold', '4.0',\n",
    "        '--min-user-interactions', '5', '--min-item-interactions', '5',\n",
    "        '--max-seq-len', '50'\n",
    "    ]\n",
    "    print('Running:', ' '.join(cmd))\n",
    "    subprocess.run(cmd, check=True)\n",
    "\n",
    "run_preprocess('next-item', out_dir_item)\n",
    "run_preprocess('next-basket', out_dir_basket)\n",
    "\n",
    "print('next-item stats:', json.load(open(os.path.join(out_dir_item, 'dataset_stats.json'))))\n",
    "print('next-basket stats:', json.load(open(os.path.join(out_dir_basket, 'dataset_stats.json'))))\n"
   ]
  },
  {
   "cell_type": "code",
   "execution_count": 26,
   "metadata": {},
   "outputs": [],
   "source": [
    "# 2) Imports, config, model factory, and helpers\n",
    "import math, time, random\n",
    "import numpy as np\n",
    "import torch\n",
    "from torch import nn\n",
    "from torch.optim import AdamW\n",
    "from tqdm import tqdm\n",
    "\n",
    "from model import SASRec as GSASRec\n",
    "from data_utils import (\n",
    "    get_train_dataloader, get_val_dataloader, get_test_dataloader, get_padding_value\n",
    ")\n",
    "\n",
    "device = torch.device('cuda' if torch.cuda.is_available() else 'cpu')\n",
    "\n",
    "def load_stats(dataset_dir):\n",
    "    with open(os.path.join(dataset_dir, 'dataset_stats.json'), 'r') as f:\n",
    "        return json.load(f)\n",
    "\n",
    "def build_model(num_items, seq_len, d_model=128, n_heads=4, n_blocks=2, dropout=0.1):\n",
    "    model = GSASRec(\n",
    "        num_items=num_items,\n",
    "        sequence_length=seq_len,\n",
    "        embedding_dim=d_model,\n",
    "        num_heads=n_heads,\n",
    "        num_blocks=n_blocks,\n",
    "        dropout_rate=dropout,\n",
    "        reuse_item_embeddings=True\n",
    "    )\n",
    "    return model.to(device)\n",
    "\n",
    "def metrics_at_k(topk, targets):\n",
    "    # targets: list[list[int]]\n",
    "    K = topk.shape[1]\n",
    "    precisions, recalls, ndcgs = [], [], []\n",
    "    for i, recs in enumerate(topk.tolist()):\n",
    "        rel = set(targets[i])\n",
    "        if not rel:\n",
    "            continue\n",
    "        hits = [1 if r in rel else 0 for r in recs]\n",
    "        p = sum(hits) / K\n",
    "        r = sum(hits) / len(rel)\n",
    "        # nDCG\n",
    "        dcg = 0.0\n",
    "        for j, h in enumerate(hits, start=1):\n",
    "            if h:\n",
    "                dcg += 1.0 / math.log2(j + 1)\n",
    "        # ideal DCG with |rel| at top\n",
    "        ideal_hits = min(len(rel), K)\n",
    "        idcg = sum(1.0 / math.log2(j + 1) for j in range(1, ideal_hits + 1)) or 1.0\n",
    "        ndcgs.append(dcg / idcg)\n",
    "        precisions.append(p)\n",
    "        recalls.append(r)\n",
    "    return {\n",
    "        'Precision@{}'.format(K): float(np.mean(precisions) if precisions else 0.0),\n",
    "        'Recall@{}'.format(K): float(np.mean(recalls) if recalls else 0.0),\n",
    "        'nDCG@{}'.format(K): float(np.mean(ndcgs) if ndcgs else 0.0),\n",
    "    }\n"
   ]
  },
  {
   "cell_type": "code",
   "execution_count": 27,
   "metadata": {},
   "outputs": [],
   "source": [
    "# 3) Training loop (gSASRec objective: sampled softmax per timestep)\n",
    "def train_epoch(model, train_loader, optimizer, pad_id, K=64, tau=0.6):\n",
    "    model.train()\n",
    "    total_loss = 0.0\n",
    "    steps = 0\n",
    "    output_embed = model.get_output_embeddings()\n",
    "    for batch in tqdm(train_loader, desc='Training'):\n",
    "        inputs, negs = batch  # [B,S+1], [B,S+1,K]\n",
    "        inputs = inputs.to(device)\n",
    "        negs = negs.to(device)\n",
    "        # Align lengths: X=S, labels=S, negs=S\n",
    "        X = inputs[:, :-1]\n",
    "        labels = inputs[:, 1:]\n",
    "        negs = negs[:, 1:, :]\n",
    "        mask = (labels != pad_id)\n",
    "        h, _ = model(X)                     # [B,S,E]\n",
    "        pos_e = output_embed(labels)        # [B,S,E]\n",
    "        neg_e = output_embed(negs)          # [B,S,K,E]\n",
    "        pos_logits = torch.einsum('bse,bse->bs', h, pos_e)\n",
    "        neg_logits = torch.einsum('bse,bske->bsk', h, neg_e)\n",
    "        logits = torch.cat([pos_logits.unsqueeze(2), neg_logits], dim=2)  # [B,S,1+K]\n",
    "        logits = logits / tau\n",
    "        # Targets: 0 index is positive\n",
    "        target = torch.zeros_like(logits[..., 0], dtype=torch.long, device=logits.device)\n",
    "        # Mask out PAD positions\n",
    "        logits = logits[mask]\n",
    "        target = target[mask]\n",
    "        loss = nn.CrossEntropyLoss()(logits, target)\n",
    "        optimizer.zero_grad()\n",
    "        loss.backward()\n",
    "        nn.utils.clip_grad_norm_(model.parameters(), 1.0)\n",
    "        optimizer.step()\n",
    "        total_loss += loss.item()\n",
    "        steps += 1\n",
    "    return total_loss / max(steps, 1)\n",
    "\n",
    "def rank_topk(model, inputs, K, pad_id, filter_rated=True, rated_sets=None):\n",
    "    model.eval()\n",
    "    with torch.no_grad():\n",
    "        inputs = inputs.to(device)\n",
    "        H, _ = model(inputs)\n",
    "        hS = H[:, -1, :]                              # [B,E]\n",
    "        W = model.get_output_embeddings().weight      # [V,E]\n",
    "        scores = torch.matmul(hS, W.t())              # [B,V]\n",
    "        # Mask invalid tokens: 0 and > pad_id\n",
    "        scores[:, 0] = float('-inf')\n",
    "        if scores.shape[1] > pad_id + 1:\n",
    "            scores[:, pad_id+1:] = float('-inf')\n",
    "        # Optionally mask seen items\n",
    "        if filter_rated and rated_sets is not None:\n",
    "            for i, rated in enumerate(rated_sets):\n",
    "                if rated:\n",
    "                    idx = torch.tensor(list(rated), device=scores.device)\n",
    "                    idx = idx[(idx >= 1) & (idx <= pad_id-1)]\n",
    "                    scores[i, idx] = float('-inf')\n",
    "        topk = torch.topk(scores, K, dim=1).indices\n",
    "        return topk\n",
    "\n",
    "def evaluate_loader(model, data_loader, K, pad_id, filter_rated=True):\n",
    "    all_topk = []\n",
    "    all_targets = []\n",
    "    for inputs, rated, targets in data_loader:\n",
    "        topk = rank_topk(model, inputs, K, pad_id, filter_rated=filter_rated, rated_sets=rated)\n",
    "        all_topk.append(topk.cpu())\n",
    "        all_targets.extend(targets)\n",
    "    all_topk = torch.cat(all_topk, dim=0) if all_topk else torch.empty(0, K)\n",
    "    return metrics_at_k(all_topk, all_targets)\n"
   ]
  },
  {
   "cell_type": "code",
   "execution_count": 28,
   "metadata": {},
   "outputs": [],
   "source": [
    "# 4) Configure datasets and hyperparameters\n",
    "SEQ_LEN = 50\n",
    "BATCH = 128\n",
    "EMB = 128\n",
    "LAYERS = 2\n",
    "HEADS = 4\n",
    "DROPOUT = 0.1\n",
    "NEGS = 64\n",
    "TAU = 0.6\n",
    "LR = 1e-4\n",
    "EPOCHS = 5  # increase for better results\n",
    "TOPK = 10\n",
    "\n",
    "ds_item = dataset_item\n",
    "ds_basket = dataset_basket\n",
    "pad_item = get_padding_value(os.path.join('datasets', ds_item))\n",
    "num_items_item = load_stats(os.path.join('datasets', ds_item))['num_items']\n",
    "pad_basket = get_padding_value(os.path.join('datasets', ds_basket))\n",
    "num_items_basket = load_stats(os.path.join('datasets', ds_basket))['num_items']\n"
   ]
  },
  {
   "cell_type": "code",
   "execution_count": 29,
   "metadata": {},
   "outputs": [
    {
     "name": "stdout",
     "output_type": "stream",
     "text": [
      "=== Epoch 1/5 ===\n"
     ]
    },
    {
     "name": "stderr",
     "output_type": "stream",
     "text": [
      "Training:   5%|▍         | 47/976 [00:10<03:21,  4.61it/s]\n"
     ]
    },
    {
     "ename": "KeyboardInterrupt",
     "evalue": "",
     "output_type": "error",
     "traceback": [
      "\u001b[31m---------------------------------------------------------------------------\u001b[39m",
      "\u001b[31mKeyboardInterrupt\u001b[39m                         Traceback (most recent call last)",
      "\u001b[36mCell\u001b[39m\u001b[36m \u001b[39m\u001b[32mIn[29]\u001b[39m\u001b[32m, line 13\u001b[39m\n\u001b[32m     11\u001b[39m \u001b[38;5;28;01mfor\u001b[39;00m epoch \u001b[38;5;129;01min\u001b[39;00m \u001b[38;5;28mrange\u001b[39m(\u001b[32m1\u001b[39m, EPOCHS+\u001b[32m1\u001b[39m):\n\u001b[32m     12\u001b[39m     \u001b[38;5;28mprint\u001b[39m(\u001b[33mf\u001b[39m\u001b[33m'\u001b[39m\u001b[33m=== Epoch \u001b[39m\u001b[38;5;132;01m{\u001b[39;00mepoch\u001b[38;5;132;01m}\u001b[39;00m\u001b[33m/\u001b[39m\u001b[38;5;132;01m{\u001b[39;00mEPOCHS\u001b[38;5;132;01m}\u001b[39;00m\u001b[33m ===\u001b[39m\u001b[33m'\u001b[39m, flush=\u001b[38;5;28;01mTrue\u001b[39;00m)\n\u001b[32m---> \u001b[39m\u001b[32m13\u001b[39m     loss = \u001b[43mtrain_epoch\u001b[49m\u001b[43m(\u001b[49m\u001b[43mmodel_item\u001b[49m\u001b[43m,\u001b[49m\u001b[43m \u001b[49m\u001b[43mtrain_loader\u001b[49m\u001b[43m,\u001b[49m\u001b[43m \u001b[49m\u001b[43mopt\u001b[49m\u001b[43m,\u001b[49m\u001b[43m \u001b[49m\u001b[43mpad_item\u001b[49m\u001b[43m,\u001b[49m\u001b[43m \u001b[49m\u001b[43mK\u001b[49m\u001b[43m=\u001b[49m\u001b[43mNEGS\u001b[49m\u001b[43m,\u001b[49m\u001b[43m \u001b[49m\u001b[43mtau\u001b[49m\u001b[43m=\u001b[49m\u001b[43mTAU\u001b[49m\u001b[43m)\u001b[49m\n\u001b[32m     14\u001b[39m     \u001b[38;5;28mprint\u001b[39m(\u001b[33mf\u001b[39m\u001b[33m'\u001b[39m\u001b[33m[Epoch \u001b[39m\u001b[38;5;132;01m{\u001b[39;00mepoch\u001b[38;5;132;01m}\u001b[39;00m\u001b[33m] train_loss=\u001b[39m\u001b[38;5;132;01m{\u001b[39;00mloss\u001b[38;5;132;01m:\u001b[39;00m\u001b[33m.4f\u001b[39m\u001b[38;5;132;01m}\u001b[39;00m\u001b[33m'\u001b[39m, flush=\u001b[38;5;28;01mTrue\u001b[39;00m)\n\u001b[32m     15\u001b[39m     val_metrics = evaluate_loader(model_item, val_loader, TOPK, pad_item, filter_rated=\u001b[38;5;28;01mTrue\u001b[39;00m)\n",
      "\u001b[36mCell\u001b[39m\u001b[36m \u001b[39m\u001b[32mIn[27]\u001b[39m\u001b[32m, line 30\u001b[39m, in \u001b[36mtrain_epoch\u001b[39m\u001b[34m(model, train_loader, optimizer, pad_id, K, tau)\u001b[39m\n\u001b[32m     28\u001b[39m loss = nn.CrossEntropyLoss()(logits, target)\n\u001b[32m     29\u001b[39m optimizer.zero_grad()\n\u001b[32m---> \u001b[39m\u001b[32m30\u001b[39m \u001b[43mloss\u001b[49m\u001b[43m.\u001b[49m\u001b[43mbackward\u001b[49m\u001b[43m(\u001b[49m\u001b[43m)\u001b[49m\n\u001b[32m     31\u001b[39m nn.utils.clip_grad_norm_(model.parameters(), \u001b[32m1.0\u001b[39m)\n\u001b[32m     32\u001b[39m optimizer.step()\n",
      "\u001b[36mFile \u001b[39m\u001b[32m~/SC4020_Part1/SC4020/lib/python3.13/site-packages/torch/_tensor.py:647\u001b[39m, in \u001b[36mTensor.backward\u001b[39m\u001b[34m(self, gradient, retain_graph, create_graph, inputs)\u001b[39m\n\u001b[32m    637\u001b[39m \u001b[38;5;28;01mif\u001b[39;00m has_torch_function_unary(\u001b[38;5;28mself\u001b[39m):\n\u001b[32m    638\u001b[39m     \u001b[38;5;28;01mreturn\u001b[39;00m handle_torch_function(\n\u001b[32m    639\u001b[39m         Tensor.backward,\n\u001b[32m    640\u001b[39m         (\u001b[38;5;28mself\u001b[39m,),\n\u001b[32m   (...)\u001b[39m\u001b[32m    645\u001b[39m         inputs=inputs,\n\u001b[32m    646\u001b[39m     )\n\u001b[32m--> \u001b[39m\u001b[32m647\u001b[39m \u001b[43mtorch\u001b[49m\u001b[43m.\u001b[49m\u001b[43mautograd\u001b[49m\u001b[43m.\u001b[49m\u001b[43mbackward\u001b[49m\u001b[43m(\u001b[49m\n\u001b[32m    648\u001b[39m \u001b[43m    \u001b[49m\u001b[38;5;28;43mself\u001b[39;49m\u001b[43m,\u001b[49m\u001b[43m \u001b[49m\u001b[43mgradient\u001b[49m\u001b[43m,\u001b[49m\u001b[43m \u001b[49m\u001b[43mretain_graph\u001b[49m\u001b[43m,\u001b[49m\u001b[43m \u001b[49m\u001b[43mcreate_graph\u001b[49m\u001b[43m,\u001b[49m\u001b[43m \u001b[49m\u001b[43minputs\u001b[49m\u001b[43m=\u001b[49m\u001b[43minputs\u001b[49m\n\u001b[32m    649\u001b[39m \u001b[43m\u001b[49m\u001b[43m)\u001b[49m\n",
      "\u001b[36mFile \u001b[39m\u001b[32m~/SC4020_Part1/SC4020/lib/python3.13/site-packages/torch/autograd/__init__.py:354\u001b[39m, in \u001b[36mbackward\u001b[39m\u001b[34m(tensors, grad_tensors, retain_graph, create_graph, grad_variables, inputs)\u001b[39m\n\u001b[32m    349\u001b[39m     retain_graph = create_graph\n\u001b[32m    351\u001b[39m \u001b[38;5;66;03m# The reason we repeat the same comment below is that\u001b[39;00m\n\u001b[32m    352\u001b[39m \u001b[38;5;66;03m# some Python versions print out the first line of a multi-line function\u001b[39;00m\n\u001b[32m    353\u001b[39m \u001b[38;5;66;03m# calls in the traceback and some print out the last line\u001b[39;00m\n\u001b[32m--> \u001b[39m\u001b[32m354\u001b[39m \u001b[43m_engine_run_backward\u001b[49m\u001b[43m(\u001b[49m\n\u001b[32m    355\u001b[39m \u001b[43m    \u001b[49m\u001b[43mtensors\u001b[49m\u001b[43m,\u001b[49m\n\u001b[32m    356\u001b[39m \u001b[43m    \u001b[49m\u001b[43mgrad_tensors_\u001b[49m\u001b[43m,\u001b[49m\n\u001b[32m    357\u001b[39m \u001b[43m    \u001b[49m\u001b[43mretain_graph\u001b[49m\u001b[43m,\u001b[49m\n\u001b[32m    358\u001b[39m \u001b[43m    \u001b[49m\u001b[43mcreate_graph\u001b[49m\u001b[43m,\u001b[49m\n\u001b[32m    359\u001b[39m \u001b[43m    \u001b[49m\u001b[43minputs_tuple\u001b[49m\u001b[43m,\u001b[49m\n\u001b[32m    360\u001b[39m \u001b[43m    \u001b[49m\u001b[43mallow_unreachable\u001b[49m\u001b[43m=\u001b[49m\u001b[38;5;28;43;01mTrue\u001b[39;49;00m\u001b[43m,\u001b[49m\n\u001b[32m    361\u001b[39m \u001b[43m    \u001b[49m\u001b[43maccumulate_grad\u001b[49m\u001b[43m=\u001b[49m\u001b[38;5;28;43;01mTrue\u001b[39;49;00m\u001b[43m,\u001b[49m\n\u001b[32m    362\u001b[39m \u001b[43m\u001b[49m\u001b[43m)\u001b[49m\n",
      "\u001b[36mFile \u001b[39m\u001b[32m~/SC4020_Part1/SC4020/lib/python3.13/site-packages/torch/autograd/graph.py:829\u001b[39m, in \u001b[36m_engine_run_backward\u001b[39m\u001b[34m(t_outputs, *args, **kwargs)\u001b[39m\n\u001b[32m    827\u001b[39m     unregister_hooks = _register_logging_hooks_on_whole_graph(t_outputs)\n\u001b[32m    828\u001b[39m \u001b[38;5;28;01mtry\u001b[39;00m:\n\u001b[32m--> \u001b[39m\u001b[32m829\u001b[39m     \u001b[38;5;28;01mreturn\u001b[39;00m \u001b[43mVariable\u001b[49m\u001b[43m.\u001b[49m\u001b[43m_execution_engine\u001b[49m\u001b[43m.\u001b[49m\u001b[43mrun_backward\u001b[49m\u001b[43m(\u001b[49m\u001b[43m  \u001b[49m\u001b[38;5;66;43;03m# Calls into the C++ engine to run the backward pass\u001b[39;49;00m\n\u001b[32m    830\u001b[39m \u001b[43m        \u001b[49m\u001b[43mt_outputs\u001b[49m\u001b[43m,\u001b[49m\u001b[43m \u001b[49m\u001b[43m*\u001b[49m\u001b[43margs\u001b[49m\u001b[43m,\u001b[49m\u001b[43m \u001b[49m\u001b[43m*\u001b[49m\u001b[43m*\u001b[49m\u001b[43mkwargs\u001b[49m\n\u001b[32m    831\u001b[39m \u001b[43m    \u001b[49m\u001b[43m)\u001b[49m  \u001b[38;5;66;03m# Calls into the C++ engine to run the backward pass\u001b[39;00m\n\u001b[32m    832\u001b[39m \u001b[38;5;28;01mfinally\u001b[39;00m:\n\u001b[32m    833\u001b[39m     \u001b[38;5;28;01mif\u001b[39;00m attach_logging_hooks:\n",
      "\u001b[31mKeyboardInterrupt\u001b[39m: "
     ]
    }
   ],
   "source": [
    "# 5) Train and evaluate on next-item\n",
    "train_loader = get_train_dataloader(ds_item, batch_size=BATCH, max_length=SEQ_LEN, train_neg_per_positive=NEGS)\n",
    "val_loader = get_val_dataloader(ds_item, batch_size=BATCH, max_length=SEQ_LEN)\n",
    "test_loader = get_test_dataloader(ds_item, batch_size=BATCH, max_length=SEQ_LEN)\n",
    "\n",
    "model_item = build_model(num_items_item, SEQ_LEN, d_model=EMB, n_heads=HEADS, n_blocks=LAYERS, dropout=DROPOUT)\n",
    "opt = AdamW(model_item.parameters(), lr=LR, weight_decay=1e-4)\n",
    "\n",
    "best_val = -1.0\n",
    "best_state = None\n",
    "for epoch in range(1, EPOCHS+1):\n",
    "    print(f'=== Epoch {epoch}/{EPOCHS} ===', flush=True)\n",
    "    loss = train_epoch(model_item, train_loader, opt, pad_item, K=NEGS, tau=TAU)\n",
    "    print(f'[Epoch {epoch}] train_loss={loss:.4f}', flush=True)\n",
    "    val_metrics = evaluate_loader(model_item, val_loader, TOPK, pad_item, filter_rated=True)\n",
    "    print(f'[Epoch {epoch}] val@{TOPK}: {val_metrics}', flush=True)\n",
    "    ndcg = val_metrics.get(f'nDCG@{TOPK}', 0.0)\n",
    "    if ndcg > best_val:\n",
    "        best_val = ndcg\n",
    "        best_state = {k: v.cpu() for k, v in model_item.state_dict().items()}\n",
    "\n",
    "if best_state is not None:\n",
    "    model_item.load_state_dict(best_state)\n",
    "\n",
    "test_metrics = evaluate_loader(model_item, test_loader, TOPK, pad_item, filter_rated=True)\n",
    "print('Test (next-item):', test_metrics)\n"
   ]
  },
  {
   "cell_type": "code",
   "execution_count": null,
   "metadata": {},
   "outputs": [],
   "source": [
    "# 6) Evaluate next-basket (train similarly if desired)\n",
    "# Option A: reuse the next-item trained model to score baskets\n",
    "basket_val = get_val_dataloader(ds_basket, batch_size=BATCH, max_length=SEQ_LEN)\n",
    "basket_test = get_test_dataloader(ds_basket, batch_size=BATCH, max_length=SEQ_LEN)\n",
    "basket_metrics_val = evaluate_loader(model_item, basket_val, TOPK, pad_basket, filter_rated=True)\n",
    "basket_metrics_test = evaluate_loader(model_item, basket_test, TOPK, pad_basket, filter_rated=True)\n",
    "print('Val (next-basket):', basket_metrics_val)\n",
    "print('Test (next-basket):', basket_metrics_test)\n",
    "\n",
    "# Option B (optional): train a separate model on the basket dataset by swapping ds_item->ds_basket above.\n"
   ]
  }
 ],
 "metadata": {
  "kernelspec": {
   "display_name": "SC4020",
   "language": "python",
   "name": "python3"
  },
  "language_info": {
   "codemirror_mode": {
    "name": "ipython",
    "version": 3
   },
   "file_extension": ".py",
   "mimetype": "text/x-python",
   "name": "python",
   "nbconvert_exporter": "python",
   "pygments_lexer": "ipython3",
   "version": "3.13.7"
  }
 },
 "nbformat": 4,
 "nbformat_minor": 4
}
